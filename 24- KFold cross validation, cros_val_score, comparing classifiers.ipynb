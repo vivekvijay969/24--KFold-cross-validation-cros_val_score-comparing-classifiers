{
 "cells": [
  {
   "cell_type": "code",
   "execution_count": 3,
   "id": "e050f62d",
   "metadata": {},
   "outputs": [
    {
     "data": {
      "text/plain": [
       "['DESCR',\n",
       " 'data',\n",
       " 'data_module',\n",
       " 'feature_names',\n",
       " 'filename',\n",
       " 'frame',\n",
       " 'target',\n",
       " 'target_names']"
      ]
     },
     "execution_count": 3,
     "metadata": {},
     "output_type": "execute_result"
    }
   ],
   "source": [
    "from sklearn.datasets import load_iris\n",
    "li= load_iris()\n",
    "dir(li)"
   ]
  },
  {
   "cell_type": "code",
   "execution_count": 23,
   "id": "029539a2",
   "metadata": {},
   "outputs": [],
   "source": [
    "from sklearn.linear_model import LogisticRegression\n",
    "from sklearn.svm import SVC\n",
    "from sklearn.tree import DecisionTreeClassifier\n",
    "from sklearn.ensemble import RandomForestClassifier\n",
    "from sklearn.model_selection import cross_val_score\n",
    "import numpy as np"
   ]
  },
  {
   "cell_type": "code",
   "execution_count": 36,
   "id": "2821912a",
   "metadata": {},
   "outputs": [
    {
     "name": "stderr",
     "output_type": "stream",
     "text": [
      "C:\\Users\\admin\\AppData\\Roaming\\Python\\Python310\\site-packages\\sklearn\\linear_model\\_logistic.py:444: ConvergenceWarning: lbfgs failed to converge (status=1):\n",
      "STOP: TOTAL NO. of ITERATIONS REACHED LIMIT.\n",
      "\n",
      "Increase the number of iterations (max_iter) or scale the data as shown in:\n",
      "    https://scikit-learn.org/stable/modules/preprocessing.html\n",
      "Please also refer to the documentation for alternative solver options:\n",
      "    https://scikit-learn.org/stable/modules/linear_model.html#logistic-regression\n",
      "  n_iter_i = _check_optimize_result(\n"
     ]
    },
    {
     "data": {
      "text/plain": [
       "0.9733285917496444"
      ]
     },
     "execution_count": 36,
     "metadata": {},
     "output_type": "execute_result"
    }
   ],
   "source": [
    "score1=cross_val_score(LogisticRegression(),li.data,li.target,cv=4)\n",
    "np.average(score1)"
   ]
  },
  {
   "cell_type": "code",
   "execution_count": 58,
   "id": "b5ba7469",
   "metadata": {},
   "outputs": [
    {
     "data": {
      "text/plain": [
       "0.9800853485064012"
      ]
     },
     "execution_count": 58,
     "metadata": {},
     "output_type": "execute_result"
    }
   ],
   "source": [
    "score2=cross_val_score(SVC(C=60),li.data,li.target,cv=4)\n",
    "np.average(score2)"
   ]
  },
  {
   "cell_type": "code",
   "execution_count": 27,
   "id": "9dffdbc8",
   "metadata": {},
   "outputs": [
    {
     "data": {
      "text/plain": [
       "0.9599928876244666"
      ]
     },
     "execution_count": 27,
     "metadata": {},
     "output_type": "execute_result"
    }
   ],
   "source": [
    "score3=cross_val_score(DecisionTreeClassifier(),li.data,li.target,cv=4)\n",
    "np.average(score3)"
   ]
  },
  {
   "cell_type": "code",
   "execution_count": 35,
   "id": "090beb8f",
   "metadata": {},
   "outputs": [
    {
     "data": {
      "text/plain": [
       "0.9667496443812233"
      ]
     },
     "execution_count": 35,
     "metadata": {},
     "output_type": "execute_result"
    }
   ],
   "source": [
    "score4=cross_val_score(RandomForestClassifier(n_estimators=200),li.data,li.target,cv=4)\n",
    "np.average(score4)"
   ]
  }
 ],
 "metadata": {
  "kernelspec": {
   "display_name": "Python 3 (ipykernel)",
   "language": "python",
   "name": "python3"
  },
  "language_info": {
   "codemirror_mode": {
    "name": "ipython",
    "version": 3
   },
   "file_extension": ".py",
   "mimetype": "text/x-python",
   "name": "python",
   "nbconvert_exporter": "python",
   "pygments_lexer": "ipython3",
   "version": "3.10.4"
  }
 },
 "nbformat": 4,
 "nbformat_minor": 5
}
